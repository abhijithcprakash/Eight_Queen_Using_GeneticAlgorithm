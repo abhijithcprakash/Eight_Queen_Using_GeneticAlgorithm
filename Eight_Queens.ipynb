{
  "nbformat": 4,
  "nbformat_minor": 0,
  "metadata": {
    "colab": {
      "provenance": [],
      "authorship_tag": "ABX9TyPYjMHRRo/YBxyQkLPw0WQF",
      "include_colab_link": true
    },
    "kernelspec": {
      "name": "python3",
      "display_name": "Python 3"
    },
    "language_info": {
      "name": "python"
    }
  },
  "cells": [
    {
      "cell_type": "markdown",
      "metadata": {
        "id": "view-in-github",
        "colab_type": "text"
      },
      "source": [
        "<a href=\"https://colab.research.google.com/github/abhijithcprakash/Eight_Queen_Using_GeneticAlgorithm/blob/main/Eight_Queens.ipynb\" target=\"_parent\"><img src=\"https://colab.research.google.com/assets/colab-badge.svg\" alt=\"Open In Colab\"/></a>"
      ]
    },
    {
      "cell_type": "code",
      "source": [
        "import random\n",
        "import itertools"
      ],
      "metadata": {
        "id": "etM5mC4ljZ2n"
      },
      "execution_count": 40,
      "outputs": []
    },
    {
      "cell_type": "markdown",
      "source": [
        "Objective Function"
      ],
      "metadata": {
        "id": "XO2fe0BNjudQ"
      }
    },
    {
      "cell_type": "code",
      "source": [
        "def objectiveFunction(candidate):\n",
        "    count=0\n",
        "    for i in range(0,len(candidate)):\n",
        "        for j in range(i+1,len(candidate)):\n",
        "            if abs(candidate[i]-candidate[j])==abs(i-j) or candidate[i]==candidate[j]:\n",
        "                count=count+1\n",
        "    score=28-count\n",
        "    if score>0:\n",
        "        return score\n",
        "    else:\n",
        "        return 0"
      ],
      "metadata": {
        "id": "_i8YAsvCjCxQ"
      },
      "execution_count": 41,
      "outputs": []
    },
    {
      "cell_type": "markdown",
      "source": [
        "Crossover"
      ],
      "metadata": {
        "id": "VVXkpbY6jzq_"
      }
    },
    {
      "cell_type": "code",
      "source": [
        "def crossover(parent1, parent2):\n",
        "\n",
        "    crossover_point = random.randint(1, 7)\n",
        "    child1 = parent1[:crossover_point] + parent2[crossover_point:]\n",
        "    child2 = parent2[:crossover_point] + parent1[crossover_point:]\n",
        "    return child1, child2"
      ],
      "metadata": {
        "id": "y_FkQ5CsjH1V"
      },
      "execution_count": 42,
      "outputs": []
    },
    {
      "cell_type": "markdown",
      "source": [
        "Mutation"
      ],
      "metadata": {
        "id": "egXC64xEj3zK"
      }
    },
    {
      "cell_type": "code",
      "source": [
        "def mutation(candidate):\n",
        "\n",
        "    index1, index2 = random.sample(range(8), 2)\n",
        "    candidate[index1], candidate[index2] = candidate[index2], candidate[index1]\n",
        "    return candidate"
      ],
      "metadata": {
        "id": "OyuX8xDOjLZE"
      },
      "execution_count": 43,
      "outputs": []
    },
    {
      "cell_type": "markdown",
      "source": [
        "Genetic Algorithm"
      ],
      "metadata": {
        "id": "OLHDB_E9j7ya"
      }
    },
    {
      "cell_type": "code",
      "source": [
        "def geneticAlgorithm(populationSize, numGenerations):\n",
        "    gene=[0,1,2,3,4,5,6,7]\n",
        "    crossover_rate = 0.8\n",
        "    mutation_rate = 0.2\n",
        "    population = []\n",
        "\n",
        "    for i in range(populationSize):\n",
        "        population.append(random.sample(gene,len(gene)))\n",
        "\n",
        "    best_fitness = 0\n",
        "    for generation in range(numGenerations):\n",
        "        fitness_scores=[objectiveFunction(candidate)for candidate in population]\n",
        "        best_candidate = population[fitness_scores.index(max(fitness_scores))]\n",
        "\n",
        "        if max(fitness_scores) > best_fitness:\n",
        "            best_fitness = max(fitness_scores)\n",
        "            print(f\"Generation {generation}: best fitness = {best_fitness}\")\n",
        "\n",
        "        if 0 in fitness_scores:\n",
        "            best_candidate = population[fitness_scores.index(0)]\n",
        "            print(\"Board configuration found\",best_candidate)\n",
        "            return best_candidate\n",
        "\n",
        "        parent1=random.choices(population,weights=fitness_scores)[0]\n",
        "        parent2=random.choices(population,weights=fitness_scores)[0]\n",
        "\n",
        "        if random.random() < crossover_rate:\n",
        "            child1, child2 = crossover(parent1, parent2)\n",
        "        else:\n",
        "            child1, child2 = parent1, parent2\n",
        "\n",
        "        if random.random() < mutation_rate:\n",
        "            child1 = mutation(child1)\n",
        "        if random.random() < mutation_rate:\n",
        "            child2 = mutation(child2)\n",
        "\n",
        "        population.append(child1)\n",
        "        population.append(child2)\n",
        "\n",
        "        population = sorted(population, key=lambda candidate: objectiveFunction(candidate), reverse=True)[\n",
        "                     :populationSize - 2]\n",
        "\n",
        "    return population[0]"
      ],
      "metadata": {
        "id": "b8_6JYN6jOSj"
      },
      "execution_count": 44,
      "outputs": []
    },
    {
      "cell_type": "markdown",
      "source": [
        "Print best candidate"
      ],
      "metadata": {
        "id": "8FkVLxWVkJPZ"
      }
    },
    {
      "cell_type": "code",
      "source": [
        "def print_solution(solution):\n",
        "    board=[]\n",
        "    for i in range(8):\n",
        "        row=[\"_\" for _ in range(8)]\n",
        "        row[solution[i]]=\"Q\"\n",
        "        board.append(\" \".join(row))\n",
        "    print(\"\\n\".join(board))"
      ],
      "metadata": {
        "id": "-oHSUYtXjSB5"
      },
      "execution_count": 45,
      "outputs": []
    },
    {
      "cell_type": "code",
      "source": [
        "def main():\n",
        "    solution=geneticAlgorithm(10,100)\n",
        "    print(\"Final Solution: \")\n",
        "    print_solution(solution)\n",
        "if __name__ == \"__main__\":\n",
        "    main()"
      ],
      "metadata": {
        "colab": {
          "base_uri": "https://localhost:8080/"
        },
        "id": "ZUC85pFOjUTO",
        "outputId": "67b60491-0189-4b01-9d10-886eb095086c"
      },
      "execution_count": 46,
      "outputs": [
        {
          "output_type": "stream",
          "name": "stdout",
          "text": [
            "Generation 0: best fitness = 26\n",
            "Generation 29: best fitness = 27\n",
            "Generation 61: best fitness = 28\n",
            "Final Solution: \n",
            "_ _ _ _ _ _ Q _\n",
            "Q _ _ _ _ _ _ _\n",
            "_ _ Q _ _ _ _ _\n",
            "_ _ _ _ _ _ _ Q\n",
            "_ _ _ _ _ Q _ _\n",
            "_ _ _ Q _ _ _ _\n",
            "_ Q _ _ _ _ _ _\n",
            "_ _ _ _ Q _ _ _\n"
          ]
        }
      ]
    }
  ]
}